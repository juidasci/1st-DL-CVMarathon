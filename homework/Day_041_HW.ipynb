{
 "cells": [
  {
   "cell_type": "markdown",
   "metadata": {
    "colab_type": "text",
    "id": "CG77DrrB2CrU"
   },
   "source": [
    "## 作業\n",
    "\n",
    "1. 如何使用已經訓練好的模型？\n",
    "\n",
    "\n",
    "\n"
   ]
  },
  {
   "cell_type": "markdown",
   "metadata": {},
   "source": [
    "ANS:\n",
    "(1). 下載yolov3的網路權重(yolo.h5)\n",
    "\n",
    "(2). 將yolo.h5 轉換成keras 可讀的格式；透過convert.py 來轉換。\n",
    "\n",
    "(3). 再以keras模型訓練字底的資料。"
   ]
  },
  {
   "cell_type": "markdown",
   "metadata": {},
   "source": [
    "2. 依照 https://github.com/qqwweee/keras-yolo3 的程式碼，請敘述，訓練模型時，資料集的格式是什麼？具體一點的說，要提供什麼格式的文件來描述資料集的圖片以及 bboxes 的信息呢？"
   ]
  },
  {
   "cell_type": "markdown",
   "metadata": {},
   "source": [
    "ANS:\n",
    "資料集的格式分為圖檔(image)、種類名稱檔(class names file)和標註檔(annotation file) 圖檔: 就是一般的圖片。 標註檔: 每一列開頭為圖片的路徑 接著為該圖中各物件bounding box的座標及總類， 各bounding box之間以空格分開， bounding box內的座標、種類資訊則由\",\"分隔，不可用空格。 種類名稱檔: 全檔只有一列，列出所有種類的名稱，各類間以空格分隔。"
   ]
  },
  {
   "cell_type": "code",
   "execution_count": null,
   "metadata": {
    "colab": {
     "base_uri": "https://localhost:8080/",
     "height": 122
    },
    "colab_type": "code",
    "executionInfo": {
     "elapsed": 3899,
     "status": "ok",
     "timestamp": 1576082714890,
     "user": {
      "displayName": "杜靖愷",
      "photoUrl": "https://lh3.googleusercontent.com/a-/AAuE7mCXX8JZZ0DBZWt2P1EC5LvipxZDIWxKz2uCJ7bzpQ=s64",
      "userId": "03195633593178984431"
     },
     "user_tz": -480
    },
    "id": "NCEP-DG0VxlV",
    "outputId": "5adc330a-85ba-4196-ce0e-5455f58c127e"
   },
   "outputs": [],
   "source": [
    "%tensorflow_version 1.x # 確保 colob 中使用的 tensorflow 是 1.x 版本而不是 tensorflow 2\n",
    "import tensorflow as tf\n",
    "print(tf.__version__)"
   ]
  },
  {
   "cell_type": "code",
   "execution_count": null,
   "metadata": {
    "colab": {
     "base_uri": "https://localhost:8080/",
     "height": 281
    },
    "colab_type": "code",
    "executionInfo": {
     "elapsed": 10841,
     "status": "ok",
     "timestamp": 1576082721843,
     "user": {
      "displayName": "杜靖愷",
      "photoUrl": "https://lh3.googleusercontent.com/a-/AAuE7mCXX8JZZ0DBZWt2P1EC5LvipxZDIWxKz2uCJ7bzpQ=s64",
      "userId": "03195633593178984431"
     },
     "user_tz": -480
    },
    "id": "eXT7SQe0KQxv",
    "outputId": "444de4be-8b57-432a-defc-2feeaf15cd6f"
   },
   "outputs": [],
   "source": [
    "pip install keras==2.2.4 # 需要安裝 keras 2.2.4 的版本"
   ]
  },
  {
   "cell_type": "code",
   "execution_count": null,
   "metadata": {
    "colab": {
     "base_uri": "https://localhost:8080/",
     "height": 160
    },
    "colab_type": "code",
    "executionInfo": {
     "elapsed": 38122,
     "status": "ok",
     "timestamp": 1576082749134,
     "user": {
      "displayName": "杜靖愷",
      "photoUrl": "https://lh3.googleusercontent.com/a-/AAuE7mCXX8JZZ0DBZWt2P1EC5LvipxZDIWxKz2uCJ7bzpQ=s64",
      "userId": "03195633593178984431"
     },
     "user_tz": -480
    },
    "id": "vELO-PTVxAtm",
    "outputId": "bedd9495-2989-4782-cfed-1b414ef42b3d"
   },
   "outputs": [],
   "source": [
    "from google.colab import drive \n",
    "drive.mount('/content/gdrive') # 將 google drive 掛載在 colob，\n",
    "# 下載基於 keras 的 yolov3 程式碼\n",
    "%cd 'gdrive/My Drive'\n",
    "# !git clone https://github.com/qqwweee/keras-yolo3 # 如果之前已經下載過就可以註解掉\n",
    "%cd keras-yolo3"
   ]
  },
  {
   "cell_type": "code",
   "execution_count": null,
   "metadata": {
    "colab": {},
    "colab_type": "code",
    "collapsed": true,
    "id": "k0MyCUeRuARA"
   },
   "outputs": [],
   "source": [
    "from PIL import Image\n",
    "image = Image.open('dog.jpg') "
   ]
  },
  {
   "cell_type": "code",
   "execution_count": null,
   "metadata": {
    "colab": {},
    "colab_type": "code",
    "collapsed": true,
    "id": "ooyy53TW5c0L"
   },
   "outputs": [],
   "source": []
  }
 ],
 "metadata": {
  "accelerator": "GPU",
  "colab": {
   "collapsed_sections": [],
   "name": "Day41_train_yolov3_HW.ipynb",
   "provenance": []
  },
  "kernelspec": {
   "display_name": "Python 3",
   "language": "python",
   "name": "python3"
  },
  "language_info": {
   "codemirror_mode": {
    "name": "ipython",
    "version": 3
   },
   "file_extension": ".py",
   "mimetype": "text/x-python",
   "name": "python",
   "nbconvert_exporter": "python",
   "pygments_lexer": "ipython3",
   "version": "3.6.9"
  },
  "toc": {
   "base_numbering": 1,
   "nav_menu": {},
   "number_sections": true,
   "sideBar": true,
   "skip_h1_title": false,
   "title_cell": "Table of Contents",
   "title_sidebar": "Contents",
   "toc_cell": false,
   "toc_position": {},
   "toc_section_display": true,
   "toc_window_display": false
  },
  "varInspector": {
   "cols": {
    "lenName": 16,
    "lenType": 16,
    "lenVar": 40
   },
   "kernels_config": {
    "python": {
     "delete_cmd_postfix": "",
     "delete_cmd_prefix": "del ",
     "library": "var_list.py",
     "varRefreshCmd": "print(var_dic_list())"
    },
    "r": {
     "delete_cmd_postfix": ") ",
     "delete_cmd_prefix": "rm(",
     "library": "var_list.r",
     "varRefreshCmd": "cat(var_dic_list()) "
    }
   },
   "types_to_exclude": [
    "module",
    "function",
    "builtin_function_or_method",
    "instance",
    "_Feature"
   ],
   "window_display": false
  }
 },
 "nbformat": 4,
 "nbformat_minor": 1
}
